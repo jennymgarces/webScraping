{
 "cells": [
  {
   "cell_type": "code",
   "execution_count": null,
   "metadata": {},
   "outputs": [],
   "source": [
    "from bs4 import BeautifulSoup as BS\n",
    "import json\n",
    "file = open('Cárdex Académico.html','r')\n",
    "page = file.read()\n",
    "soup = BS(page, 'html5lib') "
   ]
  },
  {
   "cell_type": "code",
   "execution_count": null,
   "metadata": {},
   "outputs": [],
   "source": [
    "tr = soup.find_all('tr') # Find all the td elements on the page\n",
    "for i in tr:  \n",
    "    # call .findChildren() on each item in the td list\n",
    "    ths = i.findChildren(\"th\" , recursive=True)\n",
    "    tds = i.findChildren(\"td\" , recursive=True)\n",
    "    print(\"-----\")\n",
    "\n",
    "        # Iterate over the list of children calling accessing the .text attribute on each child\n",
    "    counterHeaders = 0\n",
    "    for th in ths:\n",
    "        clase = th.attrs['class'][0]\n",
    "        #print(clase)\n",
    "        if(clase=='ddlabel'):\n",
    "            spans = th.findChildren(\"span\" , recursive=True)\n",
    "            for span in spans:\n",
    "                print('+++')\n",
    "                print(span.text)##Estos son los periodos\n",
    "                print('+++')\n",
    "            clave = th.text\n",
    "            print(\"esto es un clave----\")\n",
    "            print(clave)\n",
    "            print(\"esto es un clave----\")\n",
    "        if(clase=='ddheader'):\n",
    "            what_i_want = th.text\n",
    "            print(\"clave:\" + what_i_want)\n",
    "            if(clase=='ddheader'):\n",
    "                counterHeaders = counterHeaders + 1\n",
    "            print(\"cantidad headers: \"+ str(counterHeaders))\n",
    "    for td in tds:\n",
    "        clase = td.attrs['class'][0]\n",
    "        #print(clase)\n",
    "        if(clase=='dddefault'):\n",
    "            what_i_want = td.text\n",
    "            print(\"valor:\" + what_i_want)"
   ]
  }
 ],
 "metadata": {
  "kernelspec": {
   "display_name": "Python 3",
   "language": "python",
   "name": "python3"
  },
  "language_info": {
   "codemirror_mode": {
    "name": "ipython",
    "version": 3
   },
   "file_extension": ".py",
   "mimetype": "text/x-python",
   "name": "python",
   "nbconvert_exporter": "python",
   "pygments_lexer": "ipython3",
   "version": "3.7.6"
  }
 },
 "nbformat": 4,
 "nbformat_minor": 4
}
